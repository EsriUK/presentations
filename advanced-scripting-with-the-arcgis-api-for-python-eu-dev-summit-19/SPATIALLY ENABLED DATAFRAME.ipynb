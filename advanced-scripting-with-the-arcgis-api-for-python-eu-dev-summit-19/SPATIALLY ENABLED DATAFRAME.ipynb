{
 "cells": [
  {
   "cell_type": "markdown",
   "metadata": {},
   "source": [
    "<img src=\"..\\..\\..\\pics\\panda2.jpg\" width=600/>"
   ]
  },
  {
   "cell_type": "markdown",
   "metadata": {},
   "source": [
    "<h2>Why use the spatially enabled dataframe</h2>\n",
    "\n",
    "<ul>\n",
    "  <li>In Memory</li>\n",
    "  <li>Fast computation</li>\n",
    "  <li>On the fly indexing</li>\n",
    "  <li>Multi-platform</li>\n",
    "  <li>All the benefits of pandas and more</li>\n",
    "    \n",
    "</ul>  "
   ]
  },
  {
   "cell_type": "code",
   "execution_count": 3,
   "metadata": {},
   "outputs": [],
   "source": [
    "import pandas as pd\n",
    "from arcgis.features import GeoAccessor, GeoSeriesAccessor\n",
    "from arcgis import GIS"
   ]
  },
  {
   "cell_type": "code",
   "execution_count": 4,
   "metadata": {},
   "outputs": [
    {
     "name": "stdout",
     "output_type": "stream",
     "text": [
      "Enter password: ········\n"
     ]
    }
   ],
   "source": [
    "gis = GIS('https://arcgis.com', 'bhammersley_tech')"
   ]
  },
  {
   "cell_type": "markdown",
   "metadata": {},
   "source": [
    "<h1> Data Wrangling </h1>"
   ]
  },
  {
   "cell_type": "code",
   "execution_count": 5,
   "metadata": {
    "scrolled": true
   },
   "outputs": [
    {
     "data": {
      "text/html": [
       "<div>\n",
       "<style scoped>\n",
       "    .dataframe tbody tr th:only-of-type {\n",
       "        vertical-align: middle;\n",
       "    }\n",
       "\n",
       "    .dataframe tbody tr th {\n",
       "        vertical-align: top;\n",
       "    }\n",
       "\n",
       "    .dataframe thead th {\n",
       "        text-align: right;\n",
       "    }\n",
       "</style>\n",
       "<table border=\"1\" class=\"dataframe\">\n",
       "  <thead>\n",
       "    <tr style=\"text-align: right;\">\n",
       "      <th></th>\n",
       "      <th>ID</th>\n",
       "      <th>type</th>\n",
       "      <th>Price</th>\n",
       "      <th>Bedrooms</th>\n",
       "      <th>Name</th>\n",
       "      <th>Number</th>\n",
       "      <th>Street</th>\n",
       "      <th>Town</th>\n",
       "      <th>County</th>\n",
       "      <th>Postcode</th>\n",
       "    </tr>\n",
       "  </thead>\n",
       "  <tbody>\n",
       "    <tr>\n",
       "      <th>0</th>\n",
       "      <td>1</td>\n",
       "      <td>Bungalow</td>\n",
       "      <td>100000</td>\n",
       "      <td>1</td>\n",
       "      <td>NaN</td>\n",
       "      <td>10.0</td>\n",
       "      <td>Cherry Orchard</td>\n",
       "      <td>Cambridge</td>\n",
       "      <td>Cambridgeshire</td>\n",
       "      <td>CB243AY</td>\n",
       "    </tr>\n",
       "    <tr>\n",
       "      <th>1</th>\n",
       "      <td>2</td>\n",
       "      <td>bungalow</td>\n",
       "      <td>500000</td>\n",
       "      <td>3</td>\n",
       "      <td>Orchard Farm</td>\n",
       "      <td>NaN</td>\n",
       "      <td>Fowlmere Rd</td>\n",
       "      <td>Cambridge</td>\n",
       "      <td>Cambridgeshire</td>\n",
       "      <td>CB22 6RT</td>\n",
       "    </tr>\n",
       "    <tr>\n",
       "      <th>2</th>\n",
       "      <td>3</td>\n",
       "      <td>Attached</td>\n",
       "      <td>800000</td>\n",
       "      <td>6</td>\n",
       "      <td>NaN</td>\n",
       "      <td>8.0</td>\n",
       "      <td>Cherry Orchard</td>\n",
       "      <td>Cambridge</td>\n",
       "      <td>Cambridgeshire</td>\n",
       "      <td>CB243AY</td>\n",
       "    </tr>\n",
       "    <tr>\n",
       "      <th>3</th>\n",
       "      <td>4</td>\n",
       "      <td>semi-detached</td>\n",
       "      <td>700000</td>\n",
       "      <td>5</td>\n",
       "      <td>The Old Bakery</td>\n",
       "      <td>NaN</td>\n",
       "      <td>The Green</td>\n",
       "      <td>Royston</td>\n",
       "      <td>Cambridgeshire</td>\n",
       "      <td>SG8 7QZ</td>\n",
       "    </tr>\n",
       "    <tr>\n",
       "      <th>4</th>\n",
       "      <td>5</td>\n",
       "      <td>house</td>\n",
       "      <td>200000</td>\n",
       "      <td>2</td>\n",
       "      <td>NaN</td>\n",
       "      <td>NaN</td>\n",
       "      <td>NaN</td>\n",
       "      <td>NaN</td>\n",
       "      <td>NaN</td>\n",
       "      <td>NaN</td>\n",
       "    </tr>\n",
       "  </tbody>\n",
       "</table>\n",
       "</div>"
      ],
      "text/plain": [
       "   ID           type   Price  Bedrooms            Name  Number          Street       Town          County  Postcode\n",
       "0   1       Bungalow  100000         1             NaN    10.0  Cherry Orchard  Cambridge  Cambridgeshire   CB243AY\n",
       "1   2       bungalow  500000         3    Orchard Farm     NaN     Fowlmere Rd  Cambridge  Cambridgeshire  CB22 6RT\n",
       "2   3       Attached  800000         6             NaN     8.0  Cherry Orchard  Cambridge  Cambridgeshire   CB243AY\n",
       "3   4  semi-detached  700000         5  The Old Bakery     NaN       The Green    Royston  Cambridgeshire   SG8 7QZ\n",
       "4   5          house  200000         2             NaN     NaN             NaN        NaN             NaN       NaN"
      ]
     },
     "execution_count": 5,
     "metadata": {},
     "output_type": "execute_result"
    }
   ],
   "source": [
    "df = pd.read_csv(r'C:\\Users\\bhammersley\\OneDrive - ESRI (UK) Ltd\\Documents\\Presentations\\Berlin_2019\\data\\HH.csv')\n",
    "df.head()"
   ]
  },
  {
   "cell_type": "code",
   "execution_count": 6,
   "metadata": {
    "scrolled": true
   },
   "outputs": [
    {
     "data": {
      "text/html": [
       "<div>\n",
       "<style scoped>\n",
       "    .dataframe tbody tr th:only-of-type {\n",
       "        vertical-align: middle;\n",
       "    }\n",
       "\n",
       "    .dataframe tbody tr th {\n",
       "        vertical-align: top;\n",
       "    }\n",
       "\n",
       "    .dataframe thead th {\n",
       "        text-align: right;\n",
       "    }\n",
       "</style>\n",
       "<table border=\"1\" class=\"dataframe\">\n",
       "  <thead>\n",
       "    <tr style=\"text-align: right;\">\n",
       "      <th></th>\n",
       "      <th>ID</th>\n",
       "      <th>type</th>\n",
       "      <th>Price</th>\n",
       "      <th>Bedrooms</th>\n",
       "      <th>full_address</th>\n",
       "    </tr>\n",
       "  </thead>\n",
       "  <tbody>\n",
       "    <tr>\n",
       "      <th>0</th>\n",
       "      <td>1</td>\n",
       "      <td>Bungalow</td>\n",
       "      <td>100000</td>\n",
       "      <td>1</td>\n",
       "      <td>10 Cherry Orchard Cambridge Cambridgeshire CB243AY</td>\n",
       "    </tr>\n",
       "    <tr>\n",
       "      <th>1</th>\n",
       "      <td>2</td>\n",
       "      <td>bungalow</td>\n",
       "      <td>500000</td>\n",
       "      <td>3</td>\n",
       "      <td>Orchard Farm Fowlmere Rd Cambridge Cambridgeshire CB22 6RT</td>\n",
       "    </tr>\n",
       "    <tr>\n",
       "      <th>2</th>\n",
       "      <td>3</td>\n",
       "      <td>Attached</td>\n",
       "      <td>800000</td>\n",
       "      <td>6</td>\n",
       "      <td>8 Cherry Orchard Cambridge Cambridgeshire CB243AY</td>\n",
       "    </tr>\n",
       "    <tr>\n",
       "      <th>3</th>\n",
       "      <td>4</td>\n",
       "      <td>semi-detached</td>\n",
       "      <td>700000</td>\n",
       "      <td>5</td>\n",
       "      <td>The Old Bakery The Green Royston Cambridgeshire SG8 7QZ</td>\n",
       "    </tr>\n",
       "    <tr>\n",
       "      <th>4</th>\n",
       "      <td>6</td>\n",
       "      <td>bungalow</td>\n",
       "      <td>100000</td>\n",
       "      <td>2</td>\n",
       "      <td>4 LONG ROAD CAMBRIDGE CAMBRIDGESHIRE CB2 8PX</td>\n",
       "    </tr>\n",
       "  </tbody>\n",
       "</table>\n",
       "</div>"
      ],
      "text/plain": [
       "   ID           type   Price  Bedrooms                                                full_address\n",
       "0   1       Bungalow  100000         1          10 Cherry Orchard Cambridge Cambridgeshire CB243AY\n",
       "1   2       bungalow  500000         3  Orchard Farm Fowlmere Rd Cambridge Cambridgeshire CB22 6RT\n",
       "2   3       Attached  800000         6           8 Cherry Orchard Cambridge Cambridgeshire CB243AY\n",
       "3   4  semi-detached  700000         5     The Old Bakery The Green Royston Cambridgeshire SG8 7QZ\n",
       "4   6       bungalow  100000         2                4 LONG ROAD CAMBRIDGE CAMBRIDGESHIRE CB2 8PX"
      ]
     },
     "execution_count": 6,
     "metadata": {},
     "output_type": "execute_result"
    }
   ],
   "source": [
    "def f():\n",
    "    pass\n",
    "\n",
    "df[\"full_address\"] = df.apply(\n",
    "                              lambda row: '%s %s %s %s %s' % \n",
    "                              (row['Name'],row['Street'],row['Town'],row['County'],row['Postcode']) \n",
    "                              if str(row[\"Name\"]) != 'nan' \n",
    "    \n",
    "                              else ('%s %s %s %s %s' % \n",
    "                                    (int(row['Number']),row['Street'],row['Town'],row['County'],row['Postcode']) \n",
    "                                    if str(row[\"Number\"]) != 'nan' else f()), axis=1)\n",
    "\n",
    "df = df.drop(['Name', 'Number', 'Street', 'Town', 'County', 'Postcode'], axis=1).dropna().reset_index(drop=True)\n",
    "df.head()"
   ]
  },
  {
   "cell_type": "code",
   "execution_count": 7,
   "metadata": {},
   "outputs": [
    {
     "data": {
      "text/plain": [
       "bungalow         85\n",
       "Attached         26\n",
       "Detached         26\n",
       "detached         24\n",
       "attached         22\n",
       "semi-detached     7\n",
       "semi detached     4\n",
       "Bungalow          1\n",
       "Name: type, dtype: int64"
      ]
     },
     "execution_count": 7,
     "metadata": {},
     "output_type": "execute_result"
    }
   ],
   "source": [
    "df.type.value_counts()"
   ]
  },
  {
   "cell_type": "code",
   "execution_count": 8,
   "metadata": {},
   "outputs": [
    {
     "data": {
      "text/plain": [
       "bungalow         86\n",
       "detached         50\n",
       "attached         48\n",
       "semi detached    11\n",
       "Name: type, dtype: int64"
      ]
     },
     "execution_count": 8,
     "metadata": {},
     "output_type": "execute_result"
    }
   ],
   "source": [
    "df.type = df.type.str.lower()\n",
    "q = df.type == 'semi-detached'\n",
    "df.loc[q, 'type'] = 'semi detached'\n",
    "df.type.value_counts()"
   ]
  },
  {
   "cell_type": "code",
   "execution_count": 11,
   "metadata": {},
   "outputs": [
    {
     "data": {
      "text/html": [
       "<div>\n",
       "<style scoped>\n",
       "    .dataframe tbody tr th:only-of-type {\n",
       "        vertical-align: middle;\n",
       "    }\n",
       "\n",
       "    .dataframe tbody tr th {\n",
       "        vertical-align: top;\n",
       "    }\n",
       "\n",
       "    .dataframe thead th {\n",
       "        text-align: right;\n",
       "    }\n",
       "</style>\n",
       "<table border=\"1\" class=\"dataframe\">\n",
       "  <thead>\n",
       "    <tr style=\"text-align: right;\">\n",
       "      <th></th>\n",
       "      <th>ID</th>\n",
       "      <th>type</th>\n",
       "      <th>Price</th>\n",
       "      <th>Bedrooms</th>\n",
       "      <th>full_address</th>\n",
       "      <th>SHAPE</th>\n",
       "    </tr>\n",
       "  </thead>\n",
       "  <tbody>\n",
       "    <tr>\n",
       "      <th>0</th>\n",
       "      <td>1</td>\n",
       "      <td>bungalow</td>\n",
       "      <td>100000</td>\n",
       "      <td>1</td>\n",
       "      <td>10 Cherry Orchard Cambridge Cambridgeshire CB243AY</td>\n",
       "      <td>{\"x\": 0.06696890400002076, \"y\": 52.260357174000035, \"spatialReference\": {\"wkid\": 4326, \"latestWkid\": 4326}}</td>\n",
       "    </tr>\n",
       "    <tr>\n",
       "      <th>1</th>\n",
       "      <td>2</td>\n",
       "      <td>bungalow</td>\n",
       "      <td>500000</td>\n",
       "      <td>3</td>\n",
       "      <td>Orchard Farm Fowlmere Rd Cambridge Cambridgeshire CB22 6RT</td>\n",
       "      <td>{\"x\": 0.06606553200003873, \"y\": 52.113959899000065, \"spatialReference\": {\"wkid\": 4326, \"latestWkid\": 4326}}</td>\n",
       "    </tr>\n",
       "    <tr>\n",
       "      <th>2</th>\n",
       "      <td>3</td>\n",
       "      <td>attached</td>\n",
       "      <td>800000</td>\n",
       "      <td>6</td>\n",
       "      <td>8 Cherry Orchard Cambridge Cambridgeshire CB243AY</td>\n",
       "      <td>{\"x\": 0.06707382600006895, \"y\": 52.26028190400007, \"spatialReference\": {\"wkid\": 4326, \"latestWkid\": 4326}}</td>\n",
       "    </tr>\n",
       "    <tr>\n",
       "      <th>3</th>\n",
       "      <td>4</td>\n",
       "      <td>semi detached</td>\n",
       "      <td>700000</td>\n",
       "      <td>5</td>\n",
       "      <td>The Old Bakery The Green Royston Cambridgeshire SG8 7QZ</td>\n",
       "      <td>{\"x\": 0.09535150000004933, \"y\": 52.10040300000003, \"spatialReference\": {\"wkid\": 4326, \"latestWkid\": 4326}}</td>\n",
       "    </tr>\n",
       "    <tr>\n",
       "      <th>4</th>\n",
       "      <td>6</td>\n",
       "      <td>bungalow</td>\n",
       "      <td>100000</td>\n",
       "      <td>2</td>\n",
       "      <td>4 LONG ROAD CAMBRIDGE CAMBRIDGESHIRE CB2 8PX</td>\n",
       "      <td>{\"x\": 0.14184907900005328, \"y\": 52.17872315800008, \"spatialReference\": {\"wkid\": 4326, \"latestWkid\": 4326}}</td>\n",
       "    </tr>\n",
       "  </tbody>\n",
       "</table>\n",
       "</div>"
      ],
      "text/plain": [
       "   ID           type   Price  Bedrooms                                                full_address                                                                                                        SHAPE\n",
       "0   1       bungalow  100000         1          10 Cherry Orchard Cambridge Cambridgeshire CB243AY  {\"x\": 0.06696890400002076, \"y\": 52.260357174000035, \"spatialReference\": {\"wkid\": 4326, \"latestWkid\": 4326}}\n",
       "1   2       bungalow  500000         3  Orchard Farm Fowlmere Rd Cambridge Cambridgeshire CB22 6RT  {\"x\": 0.06606553200003873, \"y\": 52.113959899000065, \"spatialReference\": {\"wkid\": 4326, \"latestWkid\": 4326}}\n",
       "2   3       attached  800000         6           8 Cherry Orchard Cambridge Cambridgeshire CB243AY   {\"x\": 0.06707382600006895, \"y\": 52.26028190400007, \"spatialReference\": {\"wkid\": 4326, \"latestWkid\": 4326}}\n",
       "3   4  semi detached  700000         5     The Old Bakery The Green Royston Cambridgeshire SG8 7QZ   {\"x\": 0.09535150000004933, \"y\": 52.10040300000003, \"spatialReference\": {\"wkid\": 4326, \"latestWkid\": 4326}}\n",
       "4   6       bungalow  100000         2                4 LONG ROAD CAMBRIDGE CAMBRIDGESHIRE CB2 8PX   {\"x\": 0.14184907900005328, \"y\": 52.17872315800008, \"spatialReference\": {\"wkid\": 4326, \"latestWkid\": 4326}}"
      ]
     },
     "execution_count": 11,
     "metadata": {},
     "output_type": "execute_result"
    }
   ],
   "source": [
    "sdf = pd.DataFrame.spatial.from_df(df, 'full_address')\n",
    "sdf.head()"
   ]
  },
  {
   "cell_type": "markdown",
   "metadata": {},
   "source": [
    "<h1> Visualisation </h1>\n",
    "\n",
    "<ul>\n",
    "  <li>Matplotlib syntax</li>    \n",
    "</ul>  "
   ]
  },
  {
   "cell_type": "markdown",
   "metadata": {},
   "source": [
    "<img src=\"..\\..\\..\\pics\\VIZ.jpg\" width=600/>"
   ]
  },
  {
   "cell_type": "code",
   "execution_count": 9,
   "metadata": {},
   "outputs": [
    {
     "data": {
      "application/vnd.jupyter.widget-view+json": {
       "model_id": "03aff5253b92421aa29ed19ae090b2ad",
       "version_major": 2,
       "version_minor": 0
      },
      "text/plain": [
       "MapView(layout=Layout(height='400px', width='100%'), zoom=11.0)"
      ]
     },
     "metadata": {},
     "output_type": "display_data"
    },
    {
     "data": {
      "text/html": [
       "<div class=\"map-static-img-preview-07a852ad-8727-4a5d-8499-b4924b16f336\"><img src=\"\"></img></div>"
      ],
      "text/plain": [
       "<IPython.core.display.HTML object>"
      ]
     },
     "metadata": {},
     "output_type": "display_data"
    }
   ],
   "source": [
    "m = gis.map()\n",
    "m.center = {'spatialReference': {'latestWkid': 3857, 'wkid': 102100},'x': 17740.16697718523,'y': 6833320.7425390035}\n",
    "m.zoom = 11\n",
    "m"
   ]
  },
  {
   "cell_type": "code",
   "execution_count": 12,
   "metadata": {},
   "outputs": [
    {
     "data": {
      "text/plain": [
       "True"
      ]
     },
     "execution_count": 12,
     "metadata": {},
     "output_type": "execute_result"
    }
   ],
   "source": [
    "sdf.spatial.plot(map_widget=m,\n",
    "                renderer_type='u', # specify the unique value renderer using its notation 'u'\n",
    "                col='type')  # column to get unique values from"
   ]
  },
  {
   "cell_type": "code",
   "execution_count": 13,
   "metadata": {},
   "outputs": [],
   "source": [
    "bbox = sdf.spatial.bbox"
   ]
  },
  {
   "cell_type": "code",
   "execution_count": 14,
   "metadata": {},
   "outputs": [],
   "source": [
    "m.draw(shape = bbox)"
   ]
  },
  {
   "cell_type": "code",
   "execution_count": 47,
   "metadata": {
    "scrolled": false
   },
   "outputs": [
    {
     "data": {
      "text/html": [
       "<div class=\"item_container\" style=\"height: auto; overflow: hidden; border: 1px solid #cfcfcf; border-radius: 2px; background: #f6fafa; line-height: 1.21429em; padding: 10px;\">\n",
       "                    <div class=\"item_left\" style=\"width: 210px; float: left;\">\n",
       "                       <a href='https://techresearch.maps.arcgis.com/home/item.html?id=863f0f2f9de14db0a53c325c3f748e00' target='_blank'>\n",
       "                        <img src='http://static.arcgis.com/images/desktopapp.png' class=\"itemThumbnail\">\n",
       "                       </a>\n",
       "                    </div>\n",
       "\n",
       "                    <div class=\"item_right\"     style=\"float: none; width: auto; overflow: hidden;\">\n",
       "                        <a href='https://techresearch.maps.arcgis.com/home/item.html?id=863f0f2f9de14db0a53c325c3f748e00' target='_blank'><b>Berlin dev summit houses</b>\n",
       "                        </a>\n",
       "                        <br/><img src='https://techresearch.maps.arcgis.com/home/js/jsapi/esri/css/images/item_type_icons/featureshosted16.png' style=\"vertical-align:middle;\">Feature Layer Collection by bhammersley_tech\n",
       "                        <br/>Last Modified: November 06, 2019\n",
       "                        <br/>0 comments, 0 views\n",
       "                    </div>\n",
       "                </div>\n",
       "                "
      ],
      "text/plain": [
       "<Item title:\"Berlin dev summit houses\" type:Feature Layer Collection owner:bhammersley_tech>"
      ]
     },
     "execution_count": 47,
     "metadata": {},
     "output_type": "execute_result"
    }
   ],
   "source": [
    "sdf.spatial.to_featurelayer('Berlin dev summit houses', gis=gis)"
   ]
  },
  {
   "cell_type": "markdown",
   "metadata": {},
   "source": [
    "<h1> Geoenrichment </h1>"
   ]
  },
  {
   "cell_type": "code",
   "execution_count": 48,
   "metadata": {},
   "outputs": [],
   "source": [
    "housing_item = gis.content.get('b92ce1f0a169498f8243056a88564125')\n",
    "housing_lyr = housing_item.layers[0]"
   ]
  },
  {
   "cell_type": "code",
   "execution_count": 49,
   "metadata": {},
   "outputs": [
    {
     "data": {
      "text/html": [
       "<div>\n",
       "<style scoped>\n",
       "    .dataframe tbody tr th:only-of-type {\n",
       "        vertical-align: middle;\n",
       "    }\n",
       "\n",
       "    .dataframe tbody tr th {\n",
       "        vertical-align: top;\n",
       "    }\n",
       "\n",
       "    .dataframe thead th {\n",
       "        text-align: right;\n",
       "    }\n",
       "</style>\n",
       "<table border=\"1\" class=\"dataframe\">\n",
       "  <thead>\n",
       "    <tr style=\"text-align: right;\">\n",
       "      <th></th>\n",
       "      <th>Bedrooms</th>\n",
       "      <th>ID</th>\n",
       "      <th>OBJECTID</th>\n",
       "      <th>Price</th>\n",
       "      <th>SHAPE</th>\n",
       "      <th>full_address</th>\n",
       "      <th>type</th>\n",
       "    </tr>\n",
       "  </thead>\n",
       "  <tbody>\n",
       "    <tr>\n",
       "      <th>0</th>\n",
       "      <td>1</td>\n",
       "      <td>1</td>\n",
       "      <td>1</td>\n",
       "      <td>100000</td>\n",
       "      <td>{\"x\": 7454.944292265932, \"y\": 6847338.967730805, \"spatialReference\": {\"wkid\": 102100, \"latestWkid\": 3857}}</td>\n",
       "      <td>10 Cherry Orchard Cambridge Cambridgeshire CB243AY</td>\n",
       "      <td>bungalow</td>\n",
       "    </tr>\n",
       "    <tr>\n",
       "      <th>1</th>\n",
       "      <td>3</td>\n",
       "      <td>2</td>\n",
       "      <td>2</td>\n",
       "      <td>500000</td>\n",
       "      <td>{\"x\": 7354.381381231032, \"y\": 6820757.152281819, \"spatialReference\": {\"wkid\": 102100, \"latestWkid\": 3857}}</td>\n",
       "      <td>Orchard Farm Fowlmere Rd Cambridge Cambridgeshire CB22 6RT</td>\n",
       "      <td>bungalow</td>\n",
       "    </tr>\n",
       "    <tr>\n",
       "      <th>2</th>\n",
       "      <td>6</td>\n",
       "      <td>3</td>\n",
       "      <td>3</td>\n",
       "      <td>800000</td>\n",
       "      <td>{\"x\": 7466.6241558843085, \"y\": 6847325.278199296, \"spatialReference\": {\"wkid\": 102100, \"latestWkid\": 3857}}</td>\n",
       "      <td>8 Cherry Orchard Cambridge Cambridgeshire CB243AY</td>\n",
       "      <td>attached</td>\n",
       "    </tr>\n",
       "    <tr>\n",
       "      <th>3</th>\n",
       "      <td>5</td>\n",
       "      <td>4</td>\n",
       "      <td>4</td>\n",
       "      <td>700000</td>\n",
       "      <td>{\"x\": 10614.480426380316, \"y\": 6818300.00348284, \"spatialReference\": {\"wkid\": 102100, \"latestWkid\": 3857}}</td>\n",
       "      <td>The Old Bakery The Green Royston Cambridgeshire SG8 7QZ</td>\n",
       "      <td>semi detached</td>\n",
       "    </tr>\n",
       "    <tr>\n",
       "      <th>4</th>\n",
       "      <td>2</td>\n",
       "      <td>6</td>\n",
       "      <td>5</td>\n",
       "      <td>100000</td>\n",
       "      <td>{\"x\": 15790.567243780766, \"y\": 6832505.628641153, \"spatialReference\": {\"wkid\": 102100, \"latestWkid\": 3857}}</td>\n",
       "      <td>4 LONG ROAD CAMBRIDGE CAMBRIDGESHIRE CB2 8PX</td>\n",
       "      <td>bungalow</td>\n",
       "    </tr>\n",
       "  </tbody>\n",
       "</table>\n",
       "</div>"
      ],
      "text/plain": [
       "   Bedrooms  ID  OBJECTID   Price                                                                                                        SHAPE                                                full_address           type\n",
       "0         1   1         1  100000   {\"x\": 7454.944292265932, \"y\": 6847338.967730805, \"spatialReference\": {\"wkid\": 102100, \"latestWkid\": 3857}}          10 Cherry Orchard Cambridge Cambridgeshire CB243AY       bungalow\n",
       "1         3   2         2  500000   {\"x\": 7354.381381231032, \"y\": 6820757.152281819, \"spatialReference\": {\"wkid\": 102100, \"latestWkid\": 3857}}  Orchard Farm Fowlmere Rd Cambridge Cambridgeshire CB22 6RT       bungalow\n",
       "2         6   3         3  800000  {\"x\": 7466.6241558843085, \"y\": 6847325.278199296, \"spatialReference\": {\"wkid\": 102100, \"latestWkid\": 3857}}           8 Cherry Orchard Cambridge Cambridgeshire CB243AY       attached\n",
       "3         5   4         4  700000   {\"x\": 10614.480426380316, \"y\": 6818300.00348284, \"spatialReference\": {\"wkid\": 102100, \"latestWkid\": 3857}}     The Old Bakery The Green Royston Cambridgeshire SG8 7QZ  semi detached\n",
       "4         2   6         5  100000  {\"x\": 15790.567243780766, \"y\": 6832505.628641153, \"spatialReference\": {\"wkid\": 102100, \"latestWkid\": 3857}}                4 LONG ROAD CAMBRIDGE CAMBRIDGESHIRE CB2 8PX       bungalow"
      ]
     },
     "execution_count": 49,
     "metadata": {},
     "output_type": "execute_result"
    }
   ],
   "source": [
    "sdf = pd.DataFrame.spatial.from_layer(housing_lyr)\n",
    "sdf.head()"
   ]
  },
  {
   "cell_type": "code",
   "execution_count": 50,
   "metadata": {},
   "outputs": [
    {
     "data": {
      "text/plain": [
       "{'latestWkid': 3857, 'wkid': 102100}"
      ]
     },
     "execution_count": 50,
     "metadata": {},
     "output_type": "execute_result"
    }
   ],
   "source": [
    "sdf.spatial.sr"
   ]
  },
  {
   "cell_type": "code",
   "execution_count": 51,
   "metadata": {},
   "outputs": [
    {
     "data": {
      "text/plain": [
       "True"
      ]
     },
     "execution_count": 51,
     "metadata": {},
     "output_type": "execute_result"
    }
   ],
   "source": [
    "sdf.spatial.project(4326)"
   ]
  },
  {
   "cell_type": "code",
   "execution_count": 52,
   "metadata": {},
   "outputs": [],
   "source": [
    "analysis_variables = [\n",
    "    'EDUC01_CY', # 2017 POP age 16+ by Education: No qualifications\n",
    "    'EDUC02_CY', # 2017 POP age 16+ by Education: Level 1 qualifications\n",
    "    'EDUC03_CY', # 2017 POP age 16+ by Education: Level 2 qualifications\n",
    "    'EDUC04_CY', # 2017 POP age 16+ by Education: Level 3 qualifications\n",
    "    'EDUC05_CY', # 2017 POP age 16+ by Education: Level 4 qualifications and above\n",
    "    \n",
    "    'UNEMP_CY', # 2016 unemployed population\n",
    "    \n",
    "    'POPDENS_CY', # 2017 population density\n",
    "    \n",
    "    'PPPC_CY', # 2017 Purchasing power by capita\n",
    "    \n",
    "    'HINC01_CY', # Total households in lowest quintile (below £19,158)\n",
    "    'HINC01_CY', # Total households in 2nd quintile (£19,158 £28,123)\n",
    "    'HINC01_CY', # Total households in 3rd quintile (£28,124 to £38,084)\n",
    "    'HINC01_CY', # Total households in 4th quintile (£38,085 to £54,646)\n",
    "    'HINC01_CY', # Total households in 5th quintile (£54,646 to £19,158)\n",
    "    \n",
    "    'HTYP01A_CY', # Households by type: Single person\n",
    "    'HTYP02A_CY', # Households by type: Married couple with dependent children\n",
    "    'HTYP03A_CY', # Households by type: Married couple with no children\n",
    "    'HTYP04A_CY', # Households by type: Cohabiting couple with dependent children\n",
    "    'HTYP05A_CY', # Households by type: Cohabiting couple with no dependent children\n",
    "    'HTYP06A_CY', # Households by type: Single parent with dependent children\n",
    "    'HTYP07A_CY', # Households by type: Single parent with no dependent children\n",
    "    'HTYP08A_CY' # Households by type: Other household types\n",
    "    \n",
    "]\n"
   ]
  },
  {
   "cell_type": "code",
   "execution_count": 53,
   "metadata": {},
   "outputs": [],
   "source": [
    "from arcgis.geoenrichment import enrich\n",
    "\n",
    "enriched_sdf = enrich(sdf, analysis_variables=analysis_variables)"
   ]
  },
  {
   "cell_type": "code",
   "execution_count": 54,
   "metadata": {
    "scrolled": true
   },
   "outputs": [
    {
     "data": {
      "text/html": [
       "<div>\n",
       "<style scoped>\n",
       "    .dataframe tbody tr th:only-of-type {\n",
       "        vertical-align: middle;\n",
       "    }\n",
       "\n",
       "    .dataframe tbody tr th {\n",
       "        vertical-align: top;\n",
       "    }\n",
       "\n",
       "    .dataframe thead th {\n",
       "        text-align: right;\n",
       "    }\n",
       "</style>\n",
       "<table border=\"1\" class=\"dataframe\">\n",
       "  <thead>\n",
       "    <tr style=\"text-align: right;\">\n",
       "      <th></th>\n",
       "      <th>Bedrooms</th>\n",
       "      <th>EDUC01_CY</th>\n",
       "      <th>EDUC02_CY</th>\n",
       "      <th>EDUC03_CY</th>\n",
       "      <th>EDUC04_CY</th>\n",
       "      <th>EDUC05_CY</th>\n",
       "      <th>HINC01_CY</th>\n",
       "      <th>HTYP01A_CY</th>\n",
       "      <th>HTYP02A_CY</th>\n",
       "      <th>HTYP03A_CY</th>\n",
       "      <th>...</th>\n",
       "      <th>aggregationMethod</th>\n",
       "      <th>apportionmentConfidence</th>\n",
       "      <th>areaType</th>\n",
       "      <th>bufferRadii</th>\n",
       "      <th>bufferUnits</th>\n",
       "      <th>bufferUnitsAlias</th>\n",
       "      <th>full_address</th>\n",
       "      <th>populationToPolygonSizeRating</th>\n",
       "      <th>sourceCountry</th>\n",
       "      <th>type</th>\n",
       "    </tr>\n",
       "  </thead>\n",
       "  <tbody>\n",
       "    <tr>\n",
       "      <th>0</th>\n",
       "      <td>1</td>\n",
       "      <td>195</td>\n",
       "      <td>136</td>\n",
       "      <td>169</td>\n",
       "      <td>165</td>\n",
       "      <td>541</td>\n",
       "      <td>97</td>\n",
       "      <td>165</td>\n",
       "      <td>131</td>\n",
       "      <td>224</td>\n",
       "      <td>...</td>\n",
       "      <td>BlockApportionment:GB.CensusAreas</td>\n",
       "      <td>2.219</td>\n",
       "      <td>RingBuffer</td>\n",
       "      <td>1</td>\n",
       "      <td>esriMiles</td>\n",
       "      <td>Miles</td>\n",
       "      <td>10 Cherry Orchard Cambridge Cambridgeshire CB243AY</td>\n",
       "      <td>1.539</td>\n",
       "      <td>GB</td>\n",
       "      <td>bungalow</td>\n",
       "    </tr>\n",
       "    <tr>\n",
       "      <th>1</th>\n",
       "      <td>3</td>\n",
       "      <td>149</td>\n",
       "      <td>111</td>\n",
       "      <td>133</td>\n",
       "      <td>110</td>\n",
       "      <td>440</td>\n",
       "      <td>70</td>\n",
       "      <td>97</td>\n",
       "      <td>119</td>\n",
       "      <td>190</td>\n",
       "      <td>...</td>\n",
       "      <td>BlockApportionment:GB.CensusAreas</td>\n",
       "      <td>2.219</td>\n",
       "      <td>RingBuffer</td>\n",
       "      <td>1</td>\n",
       "      <td>esriMiles</td>\n",
       "      <td>Miles</td>\n",
       "      <td>Orchard Farm Fowlmere Rd Cambridge Cambridgeshire CB22 6RT</td>\n",
       "      <td>1.539</td>\n",
       "      <td>GB</td>\n",
       "      <td>bungalow</td>\n",
       "    </tr>\n",
       "    <tr>\n",
       "      <th>2</th>\n",
       "      <td>6</td>\n",
       "      <td>195</td>\n",
       "      <td>136</td>\n",
       "      <td>169</td>\n",
       "      <td>165</td>\n",
       "      <td>541</td>\n",
       "      <td>97</td>\n",
       "      <td>165</td>\n",
       "      <td>131</td>\n",
       "      <td>225</td>\n",
       "      <td>...</td>\n",
       "      <td>BlockApportionment:GB.CensusAreas</td>\n",
       "      <td>2.219</td>\n",
       "      <td>RingBuffer</td>\n",
       "      <td>1</td>\n",
       "      <td>esriMiles</td>\n",
       "      <td>Miles</td>\n",
       "      <td>8 Cherry Orchard Cambridge Cambridgeshire CB243AY</td>\n",
       "      <td>1.539</td>\n",
       "      <td>GB</td>\n",
       "      <td>attached</td>\n",
       "    </tr>\n",
       "    <tr>\n",
       "      <th>3</th>\n",
       "      <td>5</td>\n",
       "      <td>93</td>\n",
       "      <td>73</td>\n",
       "      <td>82</td>\n",
       "      <td>90</td>\n",
       "      <td>359</td>\n",
       "      <td>50</td>\n",
       "      <td>92</td>\n",
       "      <td>84</td>\n",
       "      <td>132</td>\n",
       "      <td>...</td>\n",
       "      <td>BlockApportionment:GB.CensusAreas</td>\n",
       "      <td>2.219</td>\n",
       "      <td>RingBuffer</td>\n",
       "      <td>1</td>\n",
       "      <td>esriMiles</td>\n",
       "      <td>Miles</td>\n",
       "      <td>The Old Bakery The Green Royston Cambridgeshire SG8 7QZ</td>\n",
       "      <td>1.539</td>\n",
       "      <td>GB</td>\n",
       "      <td>semi detached</td>\n",
       "    </tr>\n",
       "    <tr>\n",
       "      <th>4</th>\n",
       "      <td>2</td>\n",
       "      <td>1715</td>\n",
       "      <td>991</td>\n",
       "      <td>1359</td>\n",
       "      <td>1522</td>\n",
       "      <td>7474</td>\n",
       "      <td>1064</td>\n",
       "      <td>2601</td>\n",
       "      <td>1299</td>\n",
       "      <td>1733</td>\n",
       "      <td>...</td>\n",
       "      <td>BlockApportionment:GB.CensusAreas</td>\n",
       "      <td>2.219</td>\n",
       "      <td>RingBuffer</td>\n",
       "      <td>1</td>\n",
       "      <td>esriMiles</td>\n",
       "      <td>Miles</td>\n",
       "      <td>4 LONG ROAD CAMBRIDGE CAMBRIDGESHIRE CB2 8PX</td>\n",
       "      <td>1.539</td>\n",
       "      <td>GB</td>\n",
       "      <td>bungalow</td>\n",
       "    </tr>\n",
       "  </tbody>\n",
       "</table>\n",
       "<p>5 rows × 34 columns</p>\n",
       "</div>"
      ],
      "text/plain": [
       "   Bedrooms  EDUC01_CY  EDUC02_CY  EDUC03_CY  EDUC04_CY  EDUC05_CY  HINC01_CY  HTYP01A_CY  HTYP02A_CY  HTYP03A_CY  ...                  aggregationMethod  apportionmentConfidence    areaType  bufferRadii  bufferUnits  bufferUnitsAlias                                                full_address  populationToPolygonSizeRating  sourceCountry           type\n",
       "0         1        195        136        169        165        541         97         165         131         224  ...  BlockApportionment:GB.CensusAreas                    2.219  RingBuffer            1    esriMiles             Miles          10 Cherry Orchard Cambridge Cambridgeshire CB243AY                          1.539             GB       bungalow\n",
       "1         3        149        111        133        110        440         70          97         119         190  ...  BlockApportionment:GB.CensusAreas                    2.219  RingBuffer            1    esriMiles             Miles  Orchard Farm Fowlmere Rd Cambridge Cambridgeshire CB22 6RT                          1.539             GB       bungalow\n",
       "2         6        195        136        169        165        541         97         165         131         225  ...  BlockApportionment:GB.CensusAreas                    2.219  RingBuffer            1    esriMiles             Miles           8 Cherry Orchard Cambridge Cambridgeshire CB243AY                          1.539             GB       attached\n",
       "3         5         93         73         82         90        359         50          92          84         132  ...  BlockApportionment:GB.CensusAreas                    2.219  RingBuffer            1    esriMiles             Miles     The Old Bakery The Green Royston Cambridgeshire SG8 7QZ                          1.539             GB  semi detached\n",
       "4         2       1715        991       1359       1522       7474       1064        2601        1299        1733  ...  BlockApportionment:GB.CensusAreas                    2.219  RingBuffer            1    esriMiles             Miles                4 LONG ROAD CAMBRIDGE CAMBRIDGESHIRE CB2 8PX                          1.539             GB       bungalow\n",
       "\n",
       "[5 rows x 34 columns]"
      ]
     },
     "execution_count": 54,
     "metadata": {},
     "output_type": "execute_result"
    }
   ],
   "source": [
    "enriched_sdf.head()"
   ]
  },
  {
   "cell_type": "code",
   "execution_count": 55,
   "metadata": {},
   "outputs": [
    {
     "data": {
      "text/html": [
       "<div class=\"item_container\" style=\"height: auto; overflow: hidden; border: 1px solid #cfcfcf; border-radius: 2px; background: #f6fafa; line-height: 1.21429em; padding: 10px;\">\n",
       "                    <div class=\"item_left\" style=\"width: 210px; float: left;\">\n",
       "                       <a href='https://techresearch.maps.arcgis.com/home/item.html?id=0a944bccae1b4cb689b06c849fe1e26b' target='_blank'>\n",
       "                        <img src='http://static.arcgis.com/images/desktopapp.png' class=\"itemThumbnail\">\n",
       "                       </a>\n",
       "                    </div>\n",
       "\n",
       "                    <div class=\"item_right\"     style=\"float: none; width: auto; overflow: hidden;\">\n",
       "                        <a href='https://techresearch.maps.arcgis.com/home/item.html?id=0a944bccae1b4cb689b06c849fe1e26b' target='_blank'><b>enriched houses</b>\n",
       "                        </a>\n",
       "                        <br/><img src='https://techresearch.maps.arcgis.com/home/js/jsapi/esri/css/images/item_type_icons/featureshosted16.png' style=\"vertical-align:middle;\">Feature Layer Collection by bhammersley_tech\n",
       "                        <br/>Last Modified: November 06, 2019\n",
       "                        <br/>0 comments, 0 views\n",
       "                    </div>\n",
       "                </div>\n",
       "                "
      ],
      "text/plain": [
       "<Item title:\"enriched houses\" type:Feature Layer Collection owner:bhammersley_tech>"
      ]
     },
     "execution_count": 55,
     "metadata": {},
     "output_type": "execute_result"
    }
   ],
   "source": [
    "enriched_sdf.spatial.to_featurelayer('enriched houses')"
   ]
  },
  {
   "cell_type": "code",
   "execution_count": null,
   "metadata": {},
   "outputs": [],
   "source": []
  },
  {
   "cell_type": "code",
   "execution_count": null,
   "metadata": {},
   "outputs": [],
   "source": []
  },
  {
   "cell_type": "code",
   "execution_count": null,
   "metadata": {},
   "outputs": [],
   "source": []
  }
 ],
 "metadata": {
  "kernelspec": {
   "display_name": "CLONE 11",
   "language": "python",
   "name": "arcgispro-py3-clone11"
  },
  "language_info": {
   "codemirror_mode": {
    "name": "ipython",
    "version": 3
   },
   "file_extension": ".py",
   "mimetype": "text/x-python",
   "name": "python",
   "nbconvert_exporter": "python",
   "pygments_lexer": "ipython3",
   "version": "3.6.9"
  }
 },
 "nbformat": 4,
 "nbformat_minor": 2
}
