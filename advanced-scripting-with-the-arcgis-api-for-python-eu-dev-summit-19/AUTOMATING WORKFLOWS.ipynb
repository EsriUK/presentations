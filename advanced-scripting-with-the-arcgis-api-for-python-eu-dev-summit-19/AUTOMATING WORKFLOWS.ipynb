{
 "cells": [
  {
   "cell_type": "code",
   "execution_count": 14,
   "metadata": {},
   "outputs": [],
   "source": [
    "from arcgis.geocoding import geocode\n",
    "import pandas as pd \n",
    "from arcgis import GIS\n",
    "import os, sys, time, csv\n",
    "from arcgis import network\n",
    "from arcgis.features import FeatureSet, FeatureLayer, Feature, FeatureLayerCollection\n",
    "import time\n",
    "from datetime import datetime"
   ]
  },
  {
   "cell_type": "code",
   "execution_count": 16,
   "metadata": {},
   "outputs": [
    {
     "name": "stdout",
     "output_type": "stream",
     "text": [
      "Enter password: ········\n"
     ]
    }
   ],
   "source": [
    "gis = GIS('https://arcgis.com', 'bhammersley_tech')"
   ]
  },
  {
   "cell_type": "code",
   "execution_count": 17,
   "metadata": {},
   "outputs": [],
   "source": [
    "def Mygeocode(address,typo):\n",
    "    m.clear_graphics()\n",
    "    \n",
    "    incident = geocode(address)[0]\n",
    "    x = incident['location']['x']\n",
    "    y = incident['location']['y']\n",
    "    \n",
    "    data =[[x,y,address,typo]]\n",
    "    column = ['x','y','address', 'Type']\n",
    "    df = pd.DataFrame(data,columns=column)\n",
    "    \n",
    "    sdf = pd.DataFrame.spatial.from_df(df)\n",
    "    \n",
    "    symbol = {\n",
    "    \"type\" : \"simple-marker\",\n",
    "    \"style\" : \"diamond\",\n",
    "    \"color\" : [230,76,0,1]\n",
    "    }\n",
    "    popup = {\n",
    "        \"title\" : incident['attributes']['PlaceName'],\n",
    "        \"content\" : incident['attributes']['Place_addr']\n",
    "        }\n",
    "    m.draw(incident['location'], popup, symbol)\n",
    "    \n",
    "    return sdf"
   ]
  },
  {
   "cell_type": "code",
   "execution_count": 18,
   "metadata": {},
   "outputs": [],
   "source": [
    "def closest_ambulance(incident_sdf, lyr):\n",
    "\n",
    "    amb_fset=lyr.query(where=\"Availability='Yes'\",out_sr=4326)\n",
    "\n",
    "    analysis_url = gis.properties.helperServices.closestFacility.url\n",
    "    cf_layer = network.ClosestFacilityLayer(analysis_url, gis=gis)\n",
    "    \n",
    "    incident_fset = incident_sdf.spatial.to_featureset()\n",
    "    \n",
    "    result = cf_layer.solve_closest_facility(incidents=incident_fset,\n",
    "                                        facilities=amb_fset,\n",
    "                                        default_target_facility_count=1,\n",
    "                                        return_facilities=True,\n",
    "                                        impedance_attribute_name='TravelTime',\n",
    "                                        accumulate_attribute_names=['Kilometers','TravelTime'])\n",
    "    \n",
    "    \n",
    "    dist = result['routes']['features'][0]['attributes']['Total_TravelTime']\n",
    "    print('Incident is',dist,' minute drive from the nearest ambulance')\n",
    "    \n",
    "    \n",
    "    return result"
   ]
  },
  {
   "cell_type": "code",
   "execution_count": 19,
   "metadata": {},
   "outputs": [],
   "source": [
    "def closest_hospital(incident_sdf):\n",
    "    \n",
    "    hosp = gis.content.get('201b1f4ba8d04e20bb6c05d8912b6a27')\n",
    "    hosp_lyr = hosp.layers[0]\n",
    "\n",
    "    hosp_fset=hosp_lyr.query(out_sr=4326)\n",
    "        \n",
    "    analysis_url = gis.properties.helperServices.closestFacility.url\n",
    "    cf_layer = network.ClosestFacilityLayer(analysis_url, gis=gis)\n",
    "    \n",
    "    incident_fset = incident_sdf.spatial.to_featureset()\n",
    "    \n",
    "    result = cf_layer.solve_closest_facility(incidents=incident_fset,\n",
    "                                        facilities=hosp_fset,\n",
    "                                        default_target_facility_count=1,\n",
    "                                        return_facilities=True,\n",
    "                                        impedance_attribute_name='TravelTime',\n",
    "                                        accumulate_attribute_names=['Kilometers','TravelTime'])\n",
    "    \n",
    "    closest = result['routes']['features'][0]['attributes']['FacilityID']\n",
    "    #print('Closest ambulance has ID:',closest)\n",
    "    \n",
    "    return result"
   ]
  },
  {
   "cell_type": "code",
   "execution_count": 20,
   "metadata": {},
   "outputs": [],
   "source": [
    "def draw_route(result,colour):\n",
    "\n",
    "    line_feat_list = []\n",
    "    for line_dict in result['routes']['features']:\n",
    "        f1 = Feature(line_dict['geometry'], line_dict['attributes'])\n",
    "        line_feat_list.append(f1)\n",
    "        \n",
    "    routes_fset = FeatureSet(line_feat_list, \n",
    "                             geometry_type=result['routes']['geometryType'],\n",
    "                             spatial_reference= result['routes']['spatialReference'])\n",
    "    \n",
    "    allocation_line_symbol_4 = {'type': 'esriSLS', 'style': 'esriSLSSolid',\n",
    "                                'color': \n",
    "                                colour, 'width': 6}\n",
    "    m.draw(routes_fset, symbol = allocation_line_symbol_4)"
   ]
  },
  {
   "cell_type": "code",
   "execution_count": 21,
   "metadata": {},
   "outputs": [],
   "source": [
    "def change_att(closest_amb):\n",
    "    \n",
    "    amb = gis.content.get('4800f5a1dbbd4b1f8c7775aa6f4fa0f3')\n",
    "    amb_lyr = amb.layers[0]\n",
    "    amb_fset=amb_lyr.query(where=\"Availability='Yes'\",out_sr=4326)\n",
    "    \n",
    "    closest_fac = closest_amb['routes']['features'][0]['attributes']['FacilityID']\n",
    "    \n",
    "    df = amb_fset.sdf\n",
    "    \n",
    "    OID = df.iloc[closest_fac-1]['OBJECTID']\n",
    "    print('Ambulance with ID:',str(OID),'is closest to the incident')\n",
    "    \n",
    "    \n",
    "    fset = amb.layers[0].query(where='OBJECTID='+str(OID))\n",
    "    lyr = amb.layers[0]\n",
    "    features = fset.features\n",
    "    \n",
    "    features[0].attributes['Availability'] = 'No'\n",
    "    \n",
    "    update = features[0]\n",
    "    \n",
    "    update_result = lyr.edit_features(updates=[update])\n",
    "    \n",
    "    return OID"
   ]
  },
  {
   "cell_type": "code",
   "execution_count": 22,
   "metadata": {},
   "outputs": [],
   "source": [
    "def update_inc(result, sdf, OID, hosp_result):\n",
    "    \n",
    "    dist = result['routes']['features'][0]['attributes']['Total_TravelTime']\n",
    "    \n",
    "    x = sdf['SHAPE'][0]['x']\n",
    "    y = sdf['SHAPE'][0]['y']\n",
    "    sr = sdf['SHAPE'][0]['spatialReference']\n",
    "    address = sdf['address'][0]\n",
    "    Type = sdf['Type'][0]\n",
    "    distance = float(str(dist)[:5])\n",
    "    OID = OID\n",
    "    dt = dTime[0:10]\n",
    "    T = dTime[11:19]\n",
    "    \n",
    "    hosp = gis.content.get('201b1f4ba8d04e20bb6c05d8912b6a27')\n",
    "    hosp_lyr = hosp.layers[0]\n",
    "    hosp_sdf = hosp_lyr.query(out_sr=4326).sdf\n",
    "    \n",
    "    hosp_FID = hosp_result['routes']['features'][0]['attributes']['FacilityID']\n",
    "    \n",
    "    hosp_ID = hosp_sdf.iloc[hosp_FID-1]['OBJECTID']\n",
    "    \n",
    "    print('Hospital with ID:',str(hosp_ID),'is closest to the incident')\n",
    "    \n",
    "    update_dict = {\"geometry\":{\"x\":x, \"y\":y, \"spatialReference\":sr},\"attributes\":{\"address\":address,\"Type\":Type,\"Time_to_ambulance\":distance, \"Ambulance_ID\":OID,\"Hospital_ID\":hosp_ID, \"Call_Date\":dt,\"Call_Time\":T}}\n",
    "    \n",
    "    incidente = gis.content.get('aba37664307a4ba5ad4287fe839ea24d')\n",
    "    inc_lyr = incidente.layers[0]\n",
    "    inc_lyr.edit_features(adds=[update_dict])\n",
    "    \n",
    "    \n",
    "    "
   ]
  },
  {
   "cell_type": "code",
   "execution_count": 25,
   "metadata": {},
   "outputs": [
    {
     "name": "stdout",
     "output_type": "stream",
     "text": [
      "Watching C:\\Users\\bhammersley\\OneDrive - ESRI (UK) Ltd\\Documents\\Presentations\\Berlin_2019\\listen\\watch_me\n",
      "New emergency call at:  2019-11-06 09:26:58.\n",
      "Incident is 1.0517015960643104  minute drive from the nearest ambulance\n",
      "Ambulance with ID: 5 is closest to the incident\n",
      "Hospital with ID: 3 is closest to the incident\n",
      "New emergency call at:  2019-11-06 09:28:04.\n",
      "Incident is 6.942815985317724  minute drive from the nearest ambulance\n",
      "Ambulance with ID: 6 is closest to the incident\n",
      "Hospital with ID: 5 is closest to the incident\n"
     ]
    },
    {
     "ename": "KeyboardInterrupt",
     "evalue": "",
     "output_type": "error",
     "traceback": [
      "\u001b[1;31m---------------------------------------------------------------------------\u001b[0m",
      "\u001b[1;31mKeyboardInterrupt\u001b[0m                         Traceback (most recent call last)",
      "\u001b[1;32m<ipython-input-25-7568e0c361c5>\u001b[0m in \u001b[0;36m<module>\u001b[1;34m\u001b[0m\n\u001b[0;32m     11\u001b[0m \u001b[1;33m\u001b[0m\u001b[0m\n\u001b[0;32m     12\u001b[0m     \u001b[1;32mwhile\u001b[0m \u001b[1;36m1\u001b[0m\u001b[1;33m:\u001b[0m\u001b[1;33m\u001b[0m\u001b[1;33m\u001b[0m\u001b[0m\n\u001b[1;32m---> 13\u001b[1;33m         \u001b[0mtime\u001b[0m\u001b[1;33m.\u001b[0m\u001b[0msleep\u001b[0m \u001b[1;33m(\u001b[0m\u001b[1;36m2\u001b[0m\u001b[1;33m)\u001b[0m\u001b[1;33m\u001b[0m\u001b[1;33m\u001b[0m\u001b[0m\n\u001b[0m\u001b[0;32m     14\u001b[0m         \u001b[0mafter\u001b[0m \u001b[1;33m=\u001b[0m \u001b[0mfiles_to_timestamp\u001b[0m\u001b[1;33m(\u001b[0m\u001b[0mpath_to_watch\u001b[0m\u001b[1;33m)\u001b[0m\u001b[1;33m\u001b[0m\u001b[1;33m\u001b[0m\u001b[0m\n\u001b[0;32m     15\u001b[0m \u001b[1;33m\u001b[0m\u001b[0m\n",
      "\u001b[1;31mKeyboardInterrupt\u001b[0m: "
     ]
    }
   ],
   "source": [
    "def files_to_timestamp(path):\n",
    "    files = [os.path.join(path, f) for f in os.listdir(path)]\n",
    "    return dict ([(f, os.path.getmtime(f)) for f in files])\n",
    "\n",
    "if __name__ == \"__main__\":\n",
    "\n",
    "    path_to_watch = r\"C:\\Users\\bhammersley\\OneDrive - ESRI (UK) Ltd\\Documents\\Presentations\\Berlin_2019\\listen\\watch_me\"\n",
    "    print( \"Watching\", path_to_watch)\n",
    "\n",
    "    before = files_to_timestamp(path_to_watch)\n",
    "\n",
    "    while 1:\n",
    "        time.sleep (2)\n",
    "        after = files_to_timestamp(path_to_watch)\n",
    "\n",
    "        added = [f for f in after.keys() if not f in before.keys()]\n",
    "        removed = [f for f in before.keys() if not f in after.keys()]\n",
    "        modified = []\n",
    "\n",
    "        for f in before.keys():\n",
    "            if not f in removed:\n",
    "                if os.path.getmtime(f) != before.get(f):\n",
    "                    modified.append(f)\n",
    "\n",
    "        if added: \n",
    "            print (\"Added: \", \", \".join(added))\n",
    "        if removed: \n",
    "            print( \"Removed: \", \", \".join(removed))\n",
    "        if modified: \n",
    "            m.add_layer(amb)\n",
    "            \n",
    "            dTime = str(datetime.now())[0:20]\n",
    "            \n",
    "            print('New emergency call at: ',dTime)\n",
    "            data = list(csv.reader(open(r'C:\\Users\\bhammersley\\OneDrive - ESRI (UK) Ltd\\Documents\\Presentations\\Berlin_2019\\listen\\watch_me\\test.csv')))\n",
    "        \n",
    "            typo = data[-1][0]\n",
    "            address = data[-1][1]\n",
    "            sdf = Mygeocode(address,typo)\n",
    "            \n",
    "            amb = gis.content.get('4800f5a1dbbd4b1f8c7775aa6f4fa0f3')\n",
    "            amb_lyr = amb.layers[0]\n",
    "            \n",
    "            # find closest ambulance\n",
    "            y = closest_ambulance(sdf, amb_lyr)\n",
    "            \n",
    "            #findclosest_hospital\n",
    "            a = closest_hospital(sdf)\n",
    "            \n",
    "            #draw route ambulance to incident\n",
    "            z = draw_route(y,[0,0,255,100])\n",
    "            \n",
    "            \n",
    "            time.sleep(2)\n",
    "            #draw route to hospital\n",
    "            j = draw_route(a, [0, 255, 36, 100])\n",
    "            \n",
    "            # change ambulance availability to No\n",
    "            z = change_att(y)\n",
    "            \n",
    "            # Update incidents\n",
    "            update_inc(y,sdf, z, a)\n",
    "            \n",
    "            \n",
    "            \n",
    "            \n",
    "            \n",
    "\n",
    "        before = after"
   ]
  },
  {
   "cell_type": "code",
   "execution_count": 23,
   "metadata": {},
   "outputs": [
    {
     "data": {
      "application/vnd.jupyter.widget-view+json": {
       "model_id": "0f6e616774d642cfa7c59f623c57fb47",
       "version_major": 2,
       "version_minor": 0
      },
      "text/plain": [
       "MapView(layout=Layout(height='400px', width='100%'), zoom=14.0)"
      ]
     },
     "metadata": {},
     "output_type": "display_data"
    },
    {
     "data": {
      "text/html": [
       "<div class=\"map-static-img-preview-e7fe553c-ac4c-49d2-8778-b5c1470b3a5e\"><img src=\"\"></img></div>"
      ],
      "text/plain": [
       "<IPython.core.display.HTML object>"
      ]
     },
     "metadata": {},
     "output_type": "display_data"
    }
   ],
   "source": [
    "m = gis.map()\n",
    "m.center = {'spatialReference': {'latestWkid': 3857, 'wkid': 102100},'x': 9456.60874216188,'y': 6842717.624355748}\n",
    "m.zoom = 14\n",
    "m"
   ]
  },
  {
   "cell_type": "code",
   "execution_count": 24,
   "metadata": {},
   "outputs": [],
   "source": [
    "amb = gis.content.get('4800f5a1dbbd4b1f8c7775aa6f4fa0f3')\n",
    "hosp = gis.content.get('201b1f4ba8d04e20bb6c05d8912b6a27')\n",
    "\n",
    "m.add_layer(amb)\n",
    "m.add_layer(hosp)"
   ]
  },
  {
   "cell_type": "code",
   "execution_count": null,
   "metadata": {},
   "outputs": [],
   "source": []
  },
  {
   "cell_type": "code",
   "execution_count": null,
   "metadata": {},
   "outputs": [],
   "source": []
  },
  {
   "cell_type": "code",
   "execution_count": null,
   "metadata": {},
   "outputs": [],
   "source": []
  }
 ],
 "metadata": {
  "kernelspec": {
   "display_name": "CLONE 11",
   "language": "python",
   "name": "arcgispro-py3-clone11"
  },
  "language_info": {
   "codemirror_mode": {
    "name": "ipython",
    "version": 3
   },
   "file_extension": ".py",
   "mimetype": "text/x-python",
   "name": "python",
   "nbconvert_exporter": "python",
   "pygments_lexer": "ipython3",
   "version": "3.6.9"
  }
 },
 "nbformat": 4,
 "nbformat_minor": 2
}
